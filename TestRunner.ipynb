{
 "metadata": {
  "name": "",
  "signature": "sha256:8b1688bdd5877eb879f7ff38c2bfac81c3ee07029bf8e37c0bedb07e6c3b85b8"
 },
 "nbformat": 3,
 "nbformat_minor": 0,
 "worksheets": [
  {
   "cells": [
    {
     "cell_type": "code",
     "collapsed": false,
     "input": [
      "import os\n",
      "%rehashx"
     ],
     "language": "python",
     "metadata": {},
     "outputs": [],
     "prompt_number": 1
    },
    {
     "cell_type": "heading",
     "level": 3,
     "metadata": {},
     "source": [
      "Compile"
     ]
    },
    {
     "cell_type": "code",
     "collapsed": false,
     "input": [
      "!./gradlew assembleDebug assembleDebugTest"
     ],
     "language": "python",
     "metadata": {},
     "outputs": [
      {
       "output_type": "stream",
       "stream": "stdout",
       "text": [
        "\u001b[m"
       ]
      },
      {
       "output_type": "stream",
       "stream": "stdout",
       "text": [
        "\u001b[1m> Loading\u001b[22m"
       ]
      },
      {
       "output_type": "stream",
       "stream": "stdout",
       "text": [
        "\u001b[1m > Resolving dependencies 'classpath'\u001b[22m\u001b[37D\u001b[0K"
       ]
      },
      {
       "output_type": "stream",
       "stream": "stdout",
       "text": [
        "\u001b[7D\u001b[1mConfiguring\u001b[22m"
       ]
      },
      {
       "output_type": "stream",
       "stream": "stdout",
       "text": [
        "\u001b[1m > 0/2 projects\u001b[22m\u001b[1m > root project\u001b[22m"
       ]
      },
      {
       "output_type": "stream",
       "stream": "stdout",
       "text": [
        "\u001b[1m > Resolving dependencies ':classpath'\u001b[22m"
       ]
      },
      {
       "output_type": "stream",
       "stream": "stdout",
       "text": [
        "\u001b[38D\u001b[0K"
       ]
      },
      {
       "output_type": "stream",
       "stream": "stdout",
       "text": [
        "\u001b[43D\u001b[0KVersionCode is set to -1\r\n",
        "\u001b[1m> Configuring > 0/2 projects > root project\u001b[22m\u001b[43D\u001b[0KVersionName is set to 0.9.-1\r\n",
        "\u001b[1m> Configuring > 0/2 projects > root project\u001b[22m"
       ]
      },
      {
       "output_type": "stream",
       "stream": "stdout",
       "text": [
        "\u001b[1m > Resolving dependencies ':compile'\u001b[22m"
       ]
      },
      {
       "output_type": "stream",
       "stream": "stdout",
       "text": [
        "\u001b[36D\u001b[0K"
       ]
      },
      {
       "output_type": "stream",
       "stream": "stdout",
       "text": [
        "\u001b[15D\u001b[0K"
       ]
      },
      {
       "output_type": "stream",
       "stream": "stdout",
       "text": [
        "\u001b[12D\u001b[1m1/2 projects\u001b[22m"
       ]
      },
      {
       "output_type": "stream",
       "stream": "stdout",
       "text": [
        "\u001b[1m > Resolving dependencies ':_debugCompile'\u001b[22m\u001b[42D\u001b[0K\u001b[1m > Resolving dependencies ':_debugApk'\u001b[22m\u001b[38D\u001b[0K"
       ]
      },
      {
       "output_type": "stream",
       "stream": "stdout",
       "text": [
        "\u001b[1m > Resolving dependencies ':_releaseCompile'\u001b[22m\u001b[44D\u001b[0K\u001b[1m > Resolving dependencies ':_releaseApk'\u001b[22m\u001b[40D\u001b[0K"
       ]
      },
      {
       "output_type": "stream",
       "stream": "stdout",
       "text": [
        "\u001b[1m > Resolving dependencies ':_debugTestCompile'\u001b[22m\u001b[46D\u001b[0K\u001b[1m > Resolving dependencies ':_debugTestApk'\u001b[22m\u001b[42D\u001b[0K"
       ]
      },
      {
       "output_type": "stream",
       "stream": "stdout",
       "text": [
        "\u001b[1m > :catroidSourceTest\u001b[22m"
       ]
      },
      {
       "output_type": "stream",
       "stream": "stdout",
       "text": [
        "\u001b[1m > Resolving dependencies ':catroidSourceTest:classpath'\u001b[22m\u001b[56D\u001b[0K"
       ]
      },
      {
       "output_type": "stream",
       "stream": "stdout",
       "text": [
        "\u001b[21D\u001b[0K\u001b[12D\u001b[1m2/2 projects\u001b[22m"
       ]
      },
      {
       "output_type": "stream",
       "stream": "stdout",
       "text": [
        "\u001b[15D\u001b[0K\u001b[13D\u001b[0K\u001b[1m> Building 0%\u001b[22m\u001b[1m > :compileDebugNdk\u001b[22m"
       ]
      },
      {
       "output_type": "stream",
       "stream": "stdout",
       "text": [
        "\u001b[19D\u001b[0K\u001b[13D\u001b[0K:compileDebugNdk \r\n",
        "\u001b[1m> Building 0%\u001b[22m\u001b[13D\u001b[0K\u001b[1A\u001b[17C\u001b[33mUP-TO-DATE\u001b[39m\r\n",
        "\u001b[1m> Building 0%\u001b[22m\u001b[13D\u001b[0K\u001b[1A\u001b[27C\r\n",
        "\u001b[1m> Building 0%\u001b[22m\u001b[2D\u001b[1m2%\u001b[22m\u001b[1m > :featuresToBuildconfig\u001b[22m\u001b[25D\u001b[0K\u001b[13D\u001b[0K:featuresToBuildconfig \r\n",
        "\u001b[1m> Building 2%\u001b[22m\u001b[13D\u001b[0K\u001b[1A\u001b[23C\u001b[33mUP-TO-DATE\u001b[39m\r\n",
        "\u001b[1m> Building 2%\u001b[22m\u001b[13D\u001b[0K\u001b[1A\u001b[33C\r\n",
        "\u001b[1m> Building 2%\u001b[22m\u001b[2D\u001b[1m4%\u001b[22m\u001b[1m > :preBuild\u001b[22m\u001b[12D\u001b[0K\u001b[13D\u001b[0K:preBuild\r\n",
        "\u001b[1m> Building 4%\u001b[22m\u001b[2D\u001b[1m6%\u001b[22m\u001b[1m > :preDebugBuild\u001b[22m\u001b[17D\u001b[0K\u001b[13D\u001b[0K:preDebugBuild\r\n",
        "\u001b[1m> Building 6%\u001b[22m\u001b[2D\u001b[1m8%\u001b[22m\u001b[1m > :checkDebugManifest\u001b[22m\u001b[22D\u001b[0K\u001b[13D\u001b[0K:checkDebugManifest\r\n",
        "\u001b[1m> Building 8%\u001b[22m\u001b[2D\u001b[1m11%\u001b[22m\u001b[1m > :preReleaseBuild\u001b[22m\u001b[19D\u001b[0K\u001b[14D\u001b[0K:preReleaseBuild\r\n",
        "\u001b[1m> Building 11%\u001b[22m\u001b[2D\u001b[1m3%\u001b[22m\u001b[1m > :prepareComActionbarsherlockActionbarsherlock440Library\u001b[22m"
       ]
      },
      {
       "output_type": "stream",
       "stream": "stdout",
       "text": [
        "\u001b[58D\u001b[0K\u001b[14D\u001b[0K:prepareComActionbarsherlockActionbarsherlock440Library \r\n",
        "\u001b[1m> Building 13%\u001b[22m\u001b[14D\u001b[0K\u001b[1A\u001b[56C\u001b[33mUP-TO-DATE\u001b[39m\r\n",
        "\u001b[1m> Building 13%\u001b[22m\u001b[14D\u001b[0K\u001b[1A\u001b[66C\r\n",
        "\u001b[1m> Building 13%\u001b[22m\u001b[2D\u001b[1m5%\u001b[22m\u001b[1m > :prepareDebugDependencies\u001b[22m\u001b[28D\u001b[0K\u001b[14D\u001b[0K:prepareDebugDependencies\r\n",
        "\u001b[1m> Building 15%\u001b[22m\u001b[2D\u001b[1m7%\u001b[22m\u001b[1m > :compileDebugAidl\u001b[22m"
       ]
      },
      {
       "output_type": "stream",
       "stream": "stdout",
       "text": [
        "\u001b[20D\u001b[0K\u001b[14D\u001b[0K:compileDebugAidl \r\n",
        "\u001b[1m> Building 17%\u001b[22m\u001b[14D\u001b[0K\u001b[1A\u001b[18C\u001b[33mUP-TO-DATE\u001b[39m\r\n",
        "\u001b[1m> Building 17%\u001b[22m\u001b[14D\u001b[0K\u001b[1A\u001b[28C\r\n",
        "\u001b[1m> Building 17%\u001b[22m\u001b[3D\u001b[1m20%\u001b[22m\u001b[1m > :compileDebugRenderscript\u001b[22m"
       ]
      },
      {
       "output_type": "stream",
       "stream": "stdout",
       "text": [
        "\u001b[28D\u001b[0K\u001b[14D\u001b[0K:compileDebugRenderscript \r\n",
        "\u001b[1m> Building 20%\u001b[22m\u001b[14D\u001b[0K\u001b[1A\u001b[26C\u001b[33mUP-TO-DATE\u001b[39m\r\n",
        "\u001b[1m> Building 20%\u001b[22m\u001b[14D\u001b[0K\u001b[1A\u001b[36C\r\n",
        "\u001b[1m> Building 20%\u001b[22m\u001b[2D\u001b[1m2%\u001b[22m\u001b[1m > :generateDebugBuildConfig\u001b[22m"
       ]
      },
      {
       "output_type": "stream",
       "stream": "stdout",
       "text": [
        "\u001b[28D\u001b[0K\u001b[14D\u001b[0K:generateDebugBuildConfig \r\n",
        "\u001b[1m> Building 22%\u001b[22m\u001b[14D\u001b[0K\u001b[1A\u001b[26C\u001b[33mUP-TO-DATE\u001b[39m\r\n",
        "\u001b[1m> Building 22%\u001b[22m\u001b[14D\u001b[0K\u001b[1A\u001b[36C\r\n",
        "\u001b[1m> Building 22%\u001b[22m\u001b[2D\u001b[1m4%\u001b[22m\u001b[1m > :mergeDebugAssets\u001b[22m\u001b[20D\u001b[0K\u001b[14D\u001b[0K:mergeDebugAssets \r\n",
        "\u001b[1m> Building 24%\u001b[22m\u001b[14D\u001b[0K\u001b[1A\u001b[18C\u001b[33mUP-TO-DATE\u001b[39m\r\n",
        "\u001b[1m> Building 24%\u001b[22m\u001b[14D\u001b[0K\u001b[1A\u001b[28C\r\n",
        "\u001b[1m> Building 24%\u001b[22m\u001b[2D\u001b[1m6%\u001b[22m\u001b[1m > :generateDebugResValues\u001b[22m\u001b[26D\u001b[0K\u001b[14D\u001b[0K:generateDebugResValues \r\n",
        "\u001b[1m> Building 26%\u001b[22m\u001b[14D\u001b[0K\u001b[1A\u001b[24C\u001b[33mUP-TO-DATE\u001b[39m\r\n",
        "\u001b[1m> Building 26%\u001b[22m\u001b[14D\u001b[0K\u001b[1A\u001b[34C\r\n",
        "\u001b[1m> Building 26%\u001b[22m\u001b[2D\u001b[1m8%\u001b[22m\u001b[1m > :generateDebugResources\u001b[22m\u001b[26D\u001b[0K\u001b[14D\u001b[0K:generateDebugResources \r\n",
        "\u001b[1m> Building 28%\u001b[22m\u001b[14D\u001b[0K\u001b[1A\u001b[24C\u001b[33mUP-TO-DATE\u001b[39m\r\n",
        "\u001b[1m> Building 28%\u001b[22m\u001b[14D\u001b[0K\u001b[1A\u001b[34C\r\n",
        "\u001b[1m> Building 28%\u001b[22m\u001b[3D\u001b[1m31%\u001b[22m\u001b[1m > :mergeDebugResources\u001b[22m"
       ]
      },
      {
       "output_type": "stream",
       "stream": "stdout",
       "text": [
        "\u001b[23D\u001b[0K\u001b[14D\u001b[0K:mergeDebugResources \r\n",
        "\u001b[1m> Building 31%\u001b[22m\u001b[14D\u001b[0K\u001b[1A\u001b[21C\u001b[33mUP-TO-DATE\u001b[39m\r\n",
        "\u001b[1m> Building 31%\u001b[22m\u001b[14D\u001b[0K\u001b[1A\u001b[31C\r\n",
        "\u001b[1m> Building 31%\u001b[22m\u001b[2D\u001b[1m3%\u001b[22m\u001b[1m > :processDebugManifest\u001b[22m\u001b[24D\u001b[0K\u001b[14D\u001b[0K:processDebugManifest \r\n",
        "\u001b[1m> Building 33%\u001b[22m\u001b[14D\u001b[0K\u001b[1A\u001b[22C\u001b[33mUP-TO-DATE\u001b[39m\r\n",
        "\u001b[1m> Building 33%\u001b[22m\u001b[14D\u001b[0K\u001b[1A\u001b[32C\r\n",
        "\u001b[1m> Building 33%\u001b[22m\u001b[2D\u001b[1m5%\u001b[22m\u001b[1m > :processDebugResources\u001b[22m"
       ]
      },
      {
       "output_type": "stream",
       "stream": "stdout",
       "text": [
        "\u001b[25D\u001b[0K\u001b[14D\u001b[0K:processDebugResources \r\n",
        "\u001b[1m> Building 35%\u001b[22m\u001b[14D\u001b[0K\u001b[1A\u001b[23C\u001b[33mUP-TO-DATE\u001b[39m\r\n",
        "\u001b[1m> Building 35%\u001b[22m\u001b[14D\u001b[0K\u001b[1A\u001b[33C\r\n",
        "\u001b[1m> Building 35%\u001b[22m\u001b[2D\u001b[1m7%\u001b[22m\u001b[1m > :generateDebugSources\u001b[22m\u001b[24D\u001b[0K\u001b[14D\u001b[0K:generateDebugSources \r\n",
        "\u001b[1m> Building 37%\u001b[22m\u001b[14D\u001b[0K\u001b[1A\u001b[22C\u001b[33mUP-TO-DATE\u001b[39m\r\n",
        "\u001b[1m> Building 37%\u001b[22m\u001b[14D\u001b[0K\u001b[1A\u001b[32C\r\n",
        "\u001b[1m> Building 37%\u001b[22m\u001b[3D\u001b[1m40%\u001b[22m\u001b[1m > :compileDebugJava\u001b[22m"
       ]
      },
      {
       "output_type": "stream",
       "stream": "stdout",
       "text": [
        "\u001b[20D\u001b[0K\u001b[14D\u001b[0K:compileDebugJava \r\n",
        "\u001b[1m> Building 40%\u001b[22m\u001b[14D\u001b[0K\u001b[1A\u001b[18C\u001b[33mUP-TO-DATE\u001b[39m\r\n",
        "\u001b[1m> Building 40%\u001b[22m\u001b[14D\u001b[0K\u001b[1A\u001b[28C\r\n",
        "\u001b[1m> Building 40%\u001b[22m\u001b[2D\u001b[1m2%\u001b[22m\u001b[1m > :preDexDebug\u001b[22m\u001b[15D\u001b[0K\u001b[14D\u001b[0K:preDexDebug \r\n",
        "\u001b[1m> Building 42%\u001b[22m\u001b[14D\u001b[0K\u001b[1A\u001b[13C\u001b[33mUP-TO-DATE\u001b[39m\r\n",
        "\u001b[1m> Building 42%\u001b[22m\u001b[14D\u001b[0K\u001b[1A\u001b[23C\r\n",
        "\u001b[1m> Building 42%\u001b[22m\u001b[2D\u001b[1m4%\u001b[22m\u001b[1m > :dexDebug\u001b[22m"
       ]
      },
      {
       "output_type": "stream",
       "stream": "stdout",
       "text": [
        "\u001b[12D\u001b[0K\u001b[14D\u001b[0K:dexDebug \r\n",
        "\u001b[1m> Building 44%\u001b[22m\u001b[14D\u001b[0K\u001b[1A\u001b[10C\u001b[33mUP-TO-DATE\u001b[39m\r\n",
        "\u001b[1m> Building 44%\u001b[22m\u001b[14D\u001b[0K\u001b[1A\u001b[20C\r\n",
        "\u001b[1m> Building 44%\u001b[22m\u001b[2D\u001b[1m6%\u001b[22m\u001b[1m > :processDebugJavaRes\u001b[22m"
       ]
      },
      {
       "output_type": "stream",
       "stream": "stdout",
       "text": [
        "\u001b[23D\u001b[0K\u001b[14D\u001b[0K:processDebugJavaRes \r\n",
        "\u001b[1m> Building 46%\u001b[22m\u001b[14D\u001b[0K\u001b[1A\u001b[21C\u001b[33mUP-TO-DATE\u001b[39m\r\n",
        "\u001b[1m> Building 46%\u001b[22m\u001b[14D\u001b[0K\u001b[1A\u001b[31C\r\n",
        "\u001b[1m> Building 46%\u001b[22m\u001b[2D\u001b[1m8%\u001b[22m\u001b[1m > :validateDebugSigning\u001b[22m\u001b[24D\u001b[0K\u001b[14D\u001b[0K:validateDebugSigning\r\n",
        "\u001b[1m> Building 48%\u001b[22m\u001b[3D\u001b[1m51%\u001b[22m\u001b[1m > :packageDebug\u001b[22m\u001b[16D\u001b[0K\u001b[14D\u001b[0K:packageDebug \r\n",
        "\u001b[1m> Building 51%\u001b[22m\u001b[14D\u001b[0K\u001b[1A\u001b[14C\u001b[33mUP-TO-DATE\u001b[39m\r\n",
        "\u001b[1m> Building 51%\u001b[22m\u001b[14D\u001b[0K\u001b[1A\u001b[24C\r\n",
        "\u001b[1m> Building 51%\u001b[22m\u001b[2D\u001b[1m3%\u001b[22m\u001b[1m > :assembleDebug\u001b[22m\u001b[17D\u001b[0K\u001b[14D\u001b[0K:assembleDebug \r\n",
        "\u001b[1m> Building 53%\u001b[22m\u001b[14D\u001b[0K\u001b[1A\u001b[15C\u001b[33mUP-TO-DATE\u001b[39m\r\n",
        "\u001b[1m> Building 53%\u001b[22m\u001b[14D\u001b[0K\u001b[1A\u001b[25C\r\n",
        "\u001b[1m> Building 53%\u001b[22m\u001b[2D\u001b[1m5%\u001b[22m\u001b[1m > :compileDebugTestNdk\u001b[22m\u001b[23D\u001b[0K\u001b[14D\u001b[0K:compileDebugTestNdk \r\n",
        "\u001b[1m> Building 55%\u001b[22m\u001b[14D\u001b[0K\u001b[1A\u001b[21C\u001b[33mUP-TO-DATE\u001b[39m\r\n",
        "\u001b[1m> Building 55%\u001b[22m\u001b[14D\u001b[0K\u001b[1A\u001b[31C\r\n",
        "\u001b[1m> Building 55%\u001b[22m\u001b[2D\u001b[1m7%\u001b[22m\u001b[1m > :preDebugTestBuild\u001b[22m\u001b[21D\u001b[0K\u001b[14D\u001b[0K:preDebugTestBuild\r\n",
        "\u001b[1m> Building 57%\u001b[22m\u001b[3D\u001b[1m60%\u001b[22m\u001b[1m > :prepareDebugTestDependencies\u001b[22m\u001b[32D\u001b[0K\u001b[14D\u001b[0K:prepareDebugTestDependencies\r\n",
        "\u001b[1m> Building 60%\u001b[22m\u001b[2D\u001b[1m2%\u001b[22m\u001b[1m > :compileDebugTestAidl\u001b[22m\u001b[24D\u001b[0K\u001b[14D\u001b[0K:compileDebugTestAidl \r\n",
        "\u001b[1m> Building 62%\u001b[22m\u001b[14D\u001b[0K\u001b[1A\u001b[22C\u001b[33mUP-TO-DATE\u001b[39m\r\n",
        "\u001b[1m> Building 62%\u001b[22m\u001b[14D\u001b[0K\u001b[1A\u001b[32C\r\n",
        "\u001b[1m> Building 62%\u001b[22m\u001b[2D\u001b[1m4%\u001b[22m\u001b[1m > :processDebugTestManifest\u001b[22m"
       ]
      },
      {
       "output_type": "stream",
       "stream": "stdout",
       "text": [
        "\u001b[28D\u001b[0K\u001b[14D\u001b[0K:processDebugTestManifest\r\n",
        "\u001b[1m> Building 64%\u001b[22m\u001b[2D\u001b[1m6%\u001b[22m\u001b[1m > :compileDebugTestRenderscript\u001b[22m\u001b[32D\u001b[0K\u001b[14D\u001b[0K:compileDebugTestRenderscript \r\n",
        "\u001b[1m> Building 66%\u001b[22m\u001b[14D\u001b[0K\u001b[1A\u001b[30C\u001b[33mUP-TO-DATE\u001b[39m\r\n",
        "\u001b[1m> Building 66%\u001b[22m\u001b[14D\u001b[0K\u001b[1A\u001b[40C\r\n",
        "\u001b[1m> Building 66%\u001b[22m\u001b[2D\u001b[1m8%\u001b[22m\u001b[1m > :testManifestHack\u001b[22m"
       ]
      },
      {
       "output_type": "stream",
       "stream": "stdout",
       "text": [
        "\u001b[20D\u001b[0K\u001b[14D\u001b[0K:testManifestHack\r\n",
        "\u001b[1m> Building 68%\u001b[22m\u001b[3D\u001b[1m71%\u001b[22m\u001b[1m > :generateDebugTestBuildConfig\u001b[22m"
       ]
      },
      {
       "output_type": "stream",
       "stream": "stdout",
       "text": [
        "\u001b[32D\u001b[0K\u001b[14D\u001b[0K:generateDebugTestBuildConfig\r\n",
        "\u001b[1m> Building 71%\u001b[22m\u001b[2D\u001b[1m3%\u001b[22m\u001b[1m > :mergeDebugTestAssets\u001b[22m\u001b[24D\u001b[0K\u001b[14D\u001b[0K:mergeDebugTestAssets \r\n",
        "\u001b[1m> Building 73%\u001b[22m\u001b[14D\u001b[0K\u001b[1A\u001b[22C\u001b[33mUP-TO-DATE\u001b[39m\r\n",
        "\u001b[1m> Building 73%\u001b[22m\u001b[14D\u001b[0K\u001b[1A\u001b[32C\r\n",
        "\u001b[1m> Building 73%\u001b[22m\u001b[2D\u001b[1m5%\u001b[22m\u001b[1m > :generateDebugTestResValues\u001b[22m\u001b[30D\u001b[0K\u001b[14D\u001b[0K:generateDebugTestResValues \r\n",
        "\u001b[1m> Building 75%\u001b[22m\u001b[14D\u001b[0K\u001b[1A\u001b[28C\u001b[33mUP-TO-DATE\u001b[39m\r\n",
        "\u001b[1m> Building 75%\u001b[22m\u001b[14D\u001b[0K\u001b[1A\u001b[38C\r\n",
        "\u001b[1m> Building 75%\u001b[22m\u001b[2D\u001b[1m7%\u001b[22m\u001b[1m > :generateDebugTestResources\u001b[22m\u001b[30D\u001b[0K\u001b[14D\u001b[0K:generateDebugTestResources \r\n",
        "\u001b[1m> Building 77%\u001b[22m\u001b[14D\u001b[0K\u001b[1A\u001b[28C\u001b[33mUP-TO-DATE\u001b[39m\r\n",
        "\u001b[1m> Building 77%\u001b[22m\u001b[14D\u001b[0K\u001b[1A\u001b[38C\r\n",
        "\u001b[1m> Building 77%\u001b[22m\u001b[3D\u001b[1m80%\u001b[22m\u001b[1m > :mergeDebugTestResources\u001b[22m"
       ]
      },
      {
       "output_type": "stream",
       "stream": "stdout",
       "text": [
        "\u001b[27D\u001b[0K\u001b[14D\u001b[0K:mergeDebugTestResources \r\n",
        "\u001b[1m> Building 80%\u001b[22m\u001b[14D\u001b[0K\u001b[1A\u001b[25C\u001b[33mUP-TO-DATE\u001b[39m\r\n",
        "\u001b[1m> Building 80%\u001b[22m\u001b[14D\u001b[0K\u001b[1A\u001b[35C\r\n",
        "\u001b[1m> Building 80%\u001b[22m\u001b[2D\u001b[1m2%\u001b[22m\u001b[1m > :processDebugTestResources\u001b[22m\u001b[29D\u001b[0K\u001b[14D\u001b[0K:processDebugTestResources \r\n",
        "\u001b[1m> Building 82%\u001b[22m\u001b[14D\u001b[0K\u001b[1A\u001b[27C\u001b[33mUP-TO-DATE\u001b[39m\r\n",
        "\u001b[1m> Building 82%\u001b[22m\u001b[14D\u001b[0K\u001b[1A\u001b[37C\r\n",
        "\u001b[1m> Building 82%\u001b[22m\u001b[2D\u001b[1m4%\u001b[22m\u001b[1m > :generateDebugTestSources\u001b[22m\u001b[28D\u001b[0K\u001b[14D\u001b[0K:generateDebugTestSources\r\n",
        "\u001b[1m> Building 84%\u001b[22m\u001b[2D\u001b[1m6%\u001b[22m\u001b[1m > :compileDebugTestJava\u001b[22m"
       ]
      },
      {
       "output_type": "stream",
       "stream": "stdout",
       "text": [
        "\u001b[38D\u001b[0K:compileDebugTestJava\r\n",
        "\u001b[1m> Building 86% > :compileDebugTestJava\u001b[22m\u001b[38D\u001b[0KNote: /Users/mezzetti/Archivi/Lavori/Programs/Catroid/catroidTest/src/org/catrobat/catroid/test/content/OnUtteranceCompletedListenerContainerTest.java uses or overrides a deprecated API.\r\n"
       ]
      },
      {
       "output_type": "stream",
       "stream": "stdout",
       "text": [
        "\u001b[1m> Building 86% > :compileDebugTestJava\u001b[22m\u001b[38D\u001b[0KNote: Recompile with -Xlint:deprecation for details.\r\n",
        "\u001b[1m> Building 86% > :compileDebugTestJava\u001b[22m"
       ]
      },
      {
       "output_type": "stream",
       "stream": "stdout",
       "text": [
        "\u001b[24D\u001b[0K\u001b[2D\u001b[1m8%\u001b[22m\u001b[1m > :preDexDebugTest\u001b[22m\u001b[19D\u001b[0K\u001b[14D\u001b[0K:preDexDebugTest \r\n",
        "\u001b[1m> Building 88%\u001b[22m\u001b[14D\u001b[0K\u001b[1A\u001b[17C\u001b[33mUP-TO-DATE\u001b[39m\r\n",
        "\u001b[1m> Building 88%\u001b[22m\u001b[14D\u001b[0K\u001b[1A\u001b[27C\r\n",
        "\u001b[1m> Building 88%\u001b[22m\u001b[3D\u001b[1m91%\u001b[22m\u001b[1m > :dexDebugTest\u001b[22m"
       ]
      },
      {
       "output_type": "stream",
       "stream": "stdout",
       "text": [
        "\u001b[16D\u001b[0K\u001b[14D\u001b[0K:dexDebugTest\r\n",
        "\u001b[1m> Building 91%\u001b[22m\u001b[2D\u001b[1m3%\u001b[22m\u001b[1m > :processDebugTestJavaRes\u001b[22m"
       ]
      },
      {
       "output_type": "stream",
       "stream": "stdout",
       "text": [
        "\u001b[27D\u001b[0K\u001b[14D\u001b[0K:processDebugTestJavaRes \r\n",
        "\u001b[1m> Building 93%\u001b[22m\u001b[14D\u001b[0K\u001b[1A\u001b[25C\u001b[33mUP-TO-DATE\u001b[39m\r\n",
        "\u001b[1m> Building 93%\u001b[22m\u001b[14D\u001b[0K\u001b[1A\u001b[35C\r\n",
        "\u001b[1m> Building 93%\u001b[22m\u001b[2D\u001b[1m5%\u001b[22m\u001b[1m > :packageDebugTest\u001b[22m"
       ]
      },
      {
       "output_type": "stream",
       "stream": "stdout",
       "text": [
        "\u001b[20D\u001b[0K\u001b[14D\u001b[0K:packageDebugTest\r\n",
        "\u001b[1m> Building 95%\u001b[22m\u001b[2D\u001b[1m7%\u001b[22m\u001b[1m > :assembleDebugTest\u001b[22m\u001b[21D\u001b[0K\u001b[14D\u001b[0K:assembleDebugTest\r\n",
        "\u001b[1m> Building 97%\u001b[22m\u001b[3D\u001b[1m100%\u001b[22m\u001b[15D\u001b[0K\r\n",
        "\u001b[1m> Building 100%\u001b[22m\u001b[15D\u001b[0KBUILD SUCCESSFUL\r\n",
        "\u001b[1m> Building 100%\u001b[22m\u001b[15D\u001b[0K\u001b[1A\u001b[16C\r\n",
        "\u001b[1m> Building 100%\u001b[22m\u001b[15D\u001b[0K\r\n",
        "\u001b[1m> Building 100%\u001b[22m\u001b[15D\u001b[0KTotal time: 23.227 secs\r\n",
        "\u001b[1m> Building 100%\u001b[22m\u001b[15D\u001b[0K"
       ]
      },
      {
       "output_type": "stream",
       "stream": "stdout",
       "text": [
        "\u001b[m"
       ]
      }
     ],
     "prompt_number": 4
    },
    {
     "cell_type": "heading",
     "level": 3,
     "metadata": {},
     "source": [
      "Spoon runner"
     ]
    },
    {
     "cell_type": "code",
     "collapsed": false,
     "input": [
      "apkPath = \"build/apk/Catroid-debug-unaligned.apk\"\n",
      "testPath = \"build/apk/Catroid-debug-test-unaligned.apk\"\n",
      "testOpt = \"--test-apk\"\n",
      "apkOpt = \"--apk\"\n",
      "spoonPath = \"tools/spoon-runner-1.1.1-jar-with-dependencies.jar\""
     ],
     "language": "python",
     "metadata": {},
     "outputs": [],
     "prompt_number": 6
    },
    {
     "cell_type": "code",
     "collapsed": false,
     "input": [
      "!java -jar $spoonPath $testOpt $testPath $apkOpt $apkPath"
     ],
     "language": "python",
     "metadata": {},
     "outputs": [
      {
       "output_type": "stream",
       "stream": "stdout",
       "text": [
        "2014-05-20 17:17:20 [SR.runTests] Executing instrumentation suite on 1 device(s).\r\n"
       ]
      }
     ]
    },
    {
     "cell_type": "code",
     "collapsed": false,
     "input": [],
     "language": "python",
     "metadata": {},
     "outputs": []
    }
   ],
   "metadata": {}
  }
 ]
}