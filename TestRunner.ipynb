{
 "metadata": {
  "name": "",
  "signature": "sha256:0e079d70a76a8baae25e3e2db1725e348824ef601524f2a3fb179953ec13ff63"
 },
 "nbformat": 3,
 "nbformat_minor": 0,
 "worksheets": [
  {
   "cells": [
    {
     "cell_type": "code",
     "collapsed": false,
     "input": [
      "import os\n",
      "%rehashx"
     ],
     "language": "python",
     "metadata": {},
     "outputs": [],
     "prompt_number": 1
    },
    {
     "cell_type": "heading",
     "level": 3,
     "metadata": {},
     "source": [
      "Compile"
     ]
    },
    {
     "cell_type": "code",
     "collapsed": false,
     "input": [
      "!./gradlew assembleDebug assembleDebugTest"
     ],
     "language": "python",
     "metadata": {},
     "outputs": [
      {
       "output_type": "stream",
       "stream": "stdout",
       "text": [
        "\u001b[m"
       ]
      },
      {
       "output_type": "stream",
       "stream": "stdout",
       "text": [
        "\u001b[1m> Loading\u001b[22m"
       ]
      },
      {
       "output_type": "stream",
       "stream": "stdout",
       "text": [
        "\u001b[1m > Resolving dependencies 'classpath'\u001b[22m\u001b[37D\u001b[0K"
       ]
      },
      {
       "output_type": "stream",
       "stream": "stdout",
       "text": [
        "\u001b[7D\u001b[1mConfiguring\u001b[22m"
       ]
      },
      {
       "output_type": "stream",
       "stream": "stdout",
       "text": [
        "\u001b[1m > 0/2 projects\u001b[22m\u001b[1m > root project\u001b[22m"
       ]
      },
      {
       "output_type": "stream",
       "stream": "stdout",
       "text": [
        "\u001b[1m > Resolving dependencies ':classpath'\u001b[22m"
       ]
      },
      {
       "output_type": "stream",
       "stream": "stdout",
       "text": [
        "\u001b[38D\u001b[0K"
       ]
      }
     ]
    },
    {
     "cell_type": "heading",
     "level": 3,
     "metadata": {},
     "source": [
      "Spoon runner"
     ]
    },
    {
     "cell_type": "code",
     "collapsed": false,
     "input": [
      "apkPath = \"build/apk/Catroid-debug-unaligned.apk\"\n",
      "testPath = \"build/apk/Catroid-debug-test-unaligned.apk\"\n",
      "testOpt = \"--test-apk\"\n",
      "apkOpt = \"--apk\"\n",
      "spoonPath = \"tools/spoon-runner-1.1.1-jar-with-dependencies.jar\""
     ],
     "language": "python",
     "metadata": {},
     "outputs": [],
     "prompt_number": 6
    },
    {
     "cell_type": "code",
     "collapsed": false,
     "input": [
      "!java -jar $spoonPath $testOpt $testPath $apkOpt $apkPath"
     ],
     "language": "python",
     "metadata": {},
     "outputs": [
      {
       "output_type": "stream",
       "stream": "stdout",
       "text": [
        "2014-05-20 17:17:20 [SR.runTests] Executing instrumentation suite on 1 device(s).\r\n"
       ]
      }
     ]
    },
    {
     "cell_type": "code",
     "collapsed": false,
     "input": [],
     "language": "python",
     "metadata": {},
     "outputs": []
    }
   ],
   "metadata": {}
  }
 ]
}