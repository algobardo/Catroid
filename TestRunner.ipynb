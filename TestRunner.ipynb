{
 "metadata": {
  "name": "",
  "signature": "sha256:3f5cf7101ffb8744a057f83be7c92e14b9e3c06602c07a71a21e1069937070d9"
 },
 "nbformat": 3,
 "nbformat_minor": 0,
 "worksheets": [
  {
   "cells": [
    {
     "cell_type": "code",
     "collapsed": false,
     "input": [
      "import os\n",
      "%rehashx"
     ],
     "language": "python",
     "metadata": {},
     "outputs": [],
     "prompt_number": 1
    },
    {
     "cell_type": "heading",
     "level": 3,
     "metadata": {},
     "source": [
      "Spoon runner"
     ]
    },
    {
     "cell_type": "code",
     "collapsed": false,
     "input": [
      "apkPath = \"build/apk/Catroid-debug-unaligned.apk\"\n",
      "testPath = \"build/apk/Catroid-debug-test-unaligned.apk\"\n",
      "testOpt = \"--test-apk\"\n",
      "apkOpt = \"--apk\"\n",
      "spoonPath = \"tools/spoon-runner-1.1.1-jar-with-dependencies.jar\""
     ],
     "language": "python",
     "metadata": {},
     "outputs": [],
     "prompt_number": 6
    },
    {
     "cell_type": "code",
     "collapsed": false,
     "input": [
      "!java -jar $spoonPath $testOpt $testPath $apkOpt $apkPath"
     ],
     "language": "python",
     "metadata": {},
     "outputs": [
      {
       "output_type": "stream",
       "stream": "stdout",
       "text": [
        "2014-05-20 17:15:00 [SR.runTests] Executing instrumentation suite on 0 device(s).\r\n"
       ]
      }
     ],
     "prompt_number": 7
    },
    {
     "cell_type": "code",
     "collapsed": false,
     "input": [],
     "language": "python",
     "metadata": {},
     "outputs": []
    }
   ],
   "metadata": {}
  }
 ]
}