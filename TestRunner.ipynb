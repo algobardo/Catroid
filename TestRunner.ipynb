{
 "metadata": {
  "name": "",
  "signature": "sha256:230d3cc69cc6904148f6e61c7a9173251074dd5642539be071a35defff29e447"
 },
 "nbformat": 3,
 "nbformat_minor": 0,
 "worksheets": [
  {
   "cells": [
    {
     "cell_type": "code",
     "collapsed": false,
     "input": [
      "import os\n",
      "%rehashx"
     ],
     "language": "python",
     "metadata": {},
     "outputs": []
    },
    {
     "cell_type": "heading",
     "level": 3,
     "metadata": {},
     "source": [
      "Compile"
     ]
    },
    {
     "cell_type": "heading",
     "level": 5,
     "metadata": {},
     "source": [
      "Robotium"
     ]
    },
    {
     "cell_type": "code",
     "collapsed": false,
     "input": [
      "!mvn -f robotium compile"
     ],
     "language": "python",
     "metadata": {},
     "outputs": []
    },
    {
     "cell_type": "code",
     "collapsed": false,
     "input": [
      "!mvn -f robotium jar:jar"
     ],
     "language": "python",
     "metadata": {},
     "outputs": []
    },
    {
     "cell_type": "heading",
     "level": 5,
     "metadata": {},
     "source": [
      "Application build"
     ]
    },
    {
     "cell_type": "code",
     "collapsed": false,
     "input": [
      "!./gradlew assembleDebug assembleDebugTest"
     ],
     "language": "python",
     "metadata": {},
     "outputs": []
    },
    {
     "cell_type": "heading",
     "level": 3,
     "metadata": {},
     "source": [
      "Spoon runner"
     ]
    },
    {
     "cell_type": "code",
     "collapsed": false,
     "input": [
      "apkPath = \"build/apk/Catroid-debug-unaligned.apk\"\n",
      "testPath = \"build/apk/Catroid-debug-test-unaligned.apk\"\n",
      "testOpt = \"--test-apk\"\n",
      "apkOpt = \"--apk\"\n",
      "spoonPath = \"tools/spoon-runner-1.1.1-jar-with-dependencies.jar\"\n",
      "debugOpt = \"--debug\""
     ],
     "language": "python",
     "metadata": {},
     "outputs": []
    },
    {
     "cell_type": "code",
     "collapsed": false,
     "input": [
      "!java -jar $spoonPath $debugOpt $testOpt $testPath $apkOpt $apkPath"
     ],
     "language": "python",
     "metadata": {},
     "outputs": []
    },
    {
     "cell_type": "code",
     "collapsed": false,
     "input": [],
     "language": "python",
     "metadata": {},
     "outputs": []
    }
   ],
   "metadata": {}
  }
 ]
}